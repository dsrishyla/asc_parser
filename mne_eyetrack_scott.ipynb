{
 "cells": [
  {
   "cell_type": "code",
   "execution_count": 8,
   "id": "624fe764-8501-4384-85d5-d6e6009e4306",
   "metadata": {},
   "outputs": [
    {
     "ename": "ModuleNotFoundError",
     "evalue": "No module named 'mne'",
     "output_type": "error",
     "traceback": [
      "\u001b[0;31m---------------------------------------------------------------------------\u001b[0m",
      "\u001b[0;31mModuleNotFoundError\u001b[0m                       Traceback (most recent call last)",
      "Input \u001b[0;32mIn [8]\u001b[0m, in \u001b[0;36m<cell line: 5>\u001b[0;34m()\u001b[0m\n\u001b[1;32m      2\u001b[0m \u001b[38;5;28;01mimport\u001b[39;00m \u001b[38;5;21;01mnumpy\u001b[39;00m \u001b[38;5;28;01mas\u001b[39;00m \u001b[38;5;21;01mnp\u001b[39;00m\n\u001b[1;32m      3\u001b[0m \u001b[38;5;28;01mimport\u001b[39;00m \u001b[38;5;21;01mpandas\u001b[39;00m \u001b[38;5;28;01mas\u001b[39;00m \u001b[38;5;21;01mpd\u001b[39;00m\n\u001b[0;32m----> 5\u001b[0m \u001b[38;5;28;01mfrom\u001b[39;00m \u001b[38;5;21;01mmne\u001b[39;00m\u001b[38;5;21;01m.\u001b[39;00m\u001b[38;5;21;01mio\u001b[39;00m\u001b[38;5;21;01m.\u001b[39;00m\u001b[38;5;21;01mbase\u001b[39;00m \u001b[38;5;28;01mimport\u001b[39;00m BaseRaw\n",
      "\u001b[0;31mModuleNotFoundError\u001b[0m: No module named 'mne'"
     ]
    }
   ],
   "source": [
    "from pathlib import Path\n",
    "import numpy as np\n",
    "import pandas as pd\n",
    "\n",
    "from mne.io.base import BaseRaw"
   ]
  },
  {
   "cell_type": "code",
   "execution_count": 1,
   "id": "71d29f98-75f3-4511-bcb5-d100c5e3dd4c",
   "metadata": {},
   "outputs": [],
   "source": [
    "mode = {'CR':'corneal reflection', 'P':'pupil'}\n",
    "\n",
    "filter_type = {'0': 'filter off',\n",
    "               '1': 'standard filter',\n",
    "               '2': 'extra filter'}\n",
    "# Leading A is for Arm\n",
    "# next R is for Remote\n",
    "# B is for Binocular/Monocular.\n",
    "# M is for Monocular only\n",
    "# Final R means illuminator on Right (legacy systems)\n",
    "mount= {'MTABLER': 'Desktop, Stabilized Head, Monocular',\n",
    "        'BTABLER': 'Desktop, Stabilized Head, Binocular/Monocular',\n",
    "        'RTABLER': 'Desktop (Remote mode), Target Sticker, Monocular',\n",
    "        'RBTABLER': 'Desktop (Remote mode), Target Sticker, Binocular/Monocular',\n",
    "        'AMTABLER': 'Arm Mount, Stabilized Head, Monocular',\n",
    "        'ABTABLER': 'Arm Mount Stabilized Head, Binocular/Monocular',\n",
    "        'ARTABLER': 'Arm Mount (Remote mode), Target Sticker, Monocular',\n",
    "        'ABRTABLE': 'Arm Mount (Remote mode), Target Sticker, Binocular/Monocular',\n",
    "        'BTOWER': 'Binocular Tower Mount, Stabilized Head, Binocular/Monocular',\n",
    "        'TOWER': 'Tower Mount, Stabilized Head, Monocular',\n",
    "        'MPRIM': 'Primate Mount, Stabilized Head, Monocular',\n",
    "        'BPRIM': 'Primate Mount, Stabilized Head, Binocular/Monocular',\n",
    "        'MLRR': 'Long-Range Mount, Stabilized Head, Monocular, Camera Level',\n",
    "        'BLRR': 'Long-Range Mount, Stabilized Head, Binocular/Monocular, Camera Angled'}"
   ]
  },
  {
   "cell_type": "code",
   "execution_count": 2,
   "id": "abeaf317-9c34-4562-ace2-548661840269",
   "metadata": {},
   "outputs": [],
   "source": [
    "def _get_header(asc_fname):\n",
    "    header_info = {}\n",
    "    is_header = False\n",
    "    for line in Path(asc_fname).open():\n",
    "        if line.startswith('**'):\n",
    "            is_header = True\n",
    "        else:\n",
    "            return header_info\n",
    "        if is_header:\n",
    "            hdr = line.lstrip('** ').split(':',maxsplit=1)\n",
    "            if hdr and hdr[0].isupper():\n",
    "                header_info[hdr[0]] = hdr[1].strip()\n",
    "\n",
    "                \n",
    "def _get_data_spec(asc_fname):\n",
    "    data_spec = {}\n",
    "    with Path(asc_fname).open() as file:\n",
    "        is_data_spec = False\n",
    "        for line in file:\n",
    "            if line.isspace():\n",
    "                continue\n",
    "            if 'RECCFG' in line:\n",
    "                is_data_spec = True\n",
    "            if is_data_spec:\n",
    "                if 'RECCFG' in line:\n",
    "                    info = line.split('RECCFG')[1].split()\n",
    "                    data_spec['tracking_mode'] = mode[info[0]]\n",
    "                    data_spec['srate'] = int(info[1])\n",
    "                    data_spec['sample_filter'] = filter_type[info[2]]\n",
    "                    data_spec['analog_filter'] = filter_type[info[3]]\n",
    "                    data_spec['eyes_tracked'] = info[4]\n",
    "                elif 'ELCLCFG' in line:\n",
    "                    info = line.split('ELCLCFG')[1].split()\n",
    "                    data_spec['mount_config'] = mount[info[0]]\n",
    "                elif 'GAZE_COORDS' in line:\n",
    "                    line.find('L')\n",
    "                    info = line.split('GAZE_COORDS')[1].split()\n",
    "                    data_spec['pixel_resolution'] = {'top-left': {'x':float(info[0]),\n",
    "                                                                  'y':float(info[1])},\n",
    "                                                     'top-right':{'x':float(info[2]),\n",
    "                                                                  'y':float(info[3])}}\n",
    "                elif 'THRESHOLDS' in line:\n",
    "                    pass\n",
    "                else:\n",
    "                    return data_spec\n",
    "\n",
    "                \n",
    "def _get_tracking_info(asc_fname):\n",
    "    tracking_info = _get_data_spec(asc_fname)\n",
    "    tracking_info['camera'] = _get_header(asc_fname)['CAMERA']\n",
    "    return tracking_info\n",
    "\n",
    "\n",
    "def _replace_missing_vals(line):\n",
    "    '''return list where missing gaze data\n",
    "       (indicated by '.') are replaced by np.nan.'''\n",
    "    return [np.nan if i == '.' else i for i in line]\n",
    "\n",
    "def _is_sys_msg(line):\n",
    "    return any(['!V' in line,\n",
    "               '!MODE' in line,\n",
    "              ';' in line])\n",
    "\n",
    "def _parse_recording_blocks(asc_fname):\n",
    "    with Path(asc_fname).open() as file:\n",
    "        samples = []\n",
    "        events = {'START':[], 'END':[], 'SAMPLES':[], 'EVENTS':[],\n",
    "                  'ESACC':[], 'EBLINK':[], 'EFIX':[],\n",
    "                  'MSG':[], 'INPUT':[], 'BUTTON': []}      \n",
    "        \n",
    "        is_recording_block = False\n",
    "        for line in file:\n",
    "            if line.startswith('START'):\n",
    "                is_recording_block = True\n",
    "            if is_recording_block and not _is_sys_msg(line):\n",
    "                line = _replace_missing_vals(line.split())\n",
    "                if line[0].isdigit():  # Sample lines start with a number.\n",
    "                    samples.append(line)\n",
    "                elif line[0] in events.keys():\n",
    "                        events[f'{line[0]}'].append(line[1:])\n",
    "                if line[0] == 'END':\n",
    "                    is_recording_block = False\n",
    "        return samples, events"
   ]
  },
  {
   "cell_type": "code",
   "execution_count": 3,
   "id": "7a98c23a-112e-4fbc-84a2-57040490e2c7",
   "metadata": {},
   "outputs": [],
   "source": [
    "def read_raw_eyelink(asc_fname):\n",
    "    return RawEyelink(asc_fname)\n",
    "    \n",
    "class RawEyelink():\n",
    "    def __init__(self, asc_fname):\n",
    "        self.asc_fname = Path(asc_fname)\n",
    "        self.tracking_info = _get_tracking_info(self.asc_fname)\n",
    "        self.session_info = _get_header(self.asc_fname)\n",
    "        self._samples, self.events = _parse_recording_blocks(self.asc_fname)"
   ]
  },
  {
   "cell_type": "code",
   "execution_count": 6,
   "id": "de0cb8fd-580a-43d8-8e73-177df57378a6",
   "metadata": {},
   "outputs": [],
   "source": [
    "raw = read_raw_eyelink('s04s07_AS_18Feb22.asc')"
   ]
  },
  {
   "cell_type": "code",
   "execution_count": 7,
   "id": "3d06065c-c718-4008-b41d-a727ae6cbc80",
   "metadata": {},
   "outputs": [
    {
     "data": {
      "text/plain": [
       "{'tracking_mode': 'corneal reflection',\n",
       " 'srate': 1000,\n",
       " 'sample_filter': 'extra filter',\n",
       " 'analog_filter': 'standard filter',\n",
       " 'eyes_tracked': 'L',\n",
       " 'mount_config': 'Arm Mount (Remote mode), Target Sticker, Binocular/Monocular',\n",
       " 'pixel_resolution': {'top-left': {'x': 0.0, 'y': 0.0},\n",
       "  'top-right': {'x': 1919.0, 'y': 1079.0}},\n",
       " 'camera': 'Eyelink GL Version 1.2 Sensor=AG7'}"
      ]
     },
     "execution_count": 7,
     "metadata": {},
     "output_type": "execute_result"
    }
   ],
   "source": [
    "raw.tracking_info"
   ]
  },
  {
   "cell_type": "code",
   "execution_count": null,
   "id": "c62b230a-5bba-477a-bbd4-1eedbba3c88d",
   "metadata": {},
   "outputs": [],
   "source": []
  }
 ],
 "metadata": {
  "kernelspec": {
   "display_name": "Python 3 (ipykernel)",
   "language": "python",
   "name": "python3"
  },
  "language_info": {
   "codemirror_mode": {
    "name": "ipython",
    "version": 3
   },
   "file_extension": ".py",
   "mimetype": "text/x-python",
   "name": "python",
   "nbconvert_exporter": "python",
   "pygments_lexer": "ipython3",
   "version": "3.9.12"
  }
 },
 "nbformat": 4,
 "nbformat_minor": 5
}
