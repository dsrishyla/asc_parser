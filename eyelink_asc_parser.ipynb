{
 "cells": [
  {
   "cell_type": "code",
   "execution_count": 13,
   "id": "55bf5e99-3caf-4671-8400-6f2c0304573d",
   "metadata": {},
   "outputs": [],
   "source": [
    "from pathlib import Path\n",
    "import pandas as pd"
   ]
  },
  {
   "cell_type": "code",
   "execution_count": 9,
   "id": "3b0584b3",
   "metadata": {},
   "outputs": [],
   "source": [
    "asc_file = Path('s04s07_AS_18Feb22.asc')\n",
    "with asc_file.open() as file:\n",
    "    samples = []\n",
    "    events = {}\n",
    "    is_recording_block = False\n",
    "    for line in file:\n",
    "        if line.isspace():\n",
    "            continue\n",
    "            \n",
    "        line = line.split()\n",
    "        if line[0] == 'START':\n",
    "            is_recording_block = True\n",
    "        if is_recording_block:\n",
    "            if line[0].isdigit():\n",
    "                samples.append(line)\n",
    "            elif line[0].isupper():\n",
    "                if line[0] not in events.keys():\n",
    "                    events[f'{line[0]}'] = [line[1:]]\n",
    "                else:\n",
    "                    events[f'{line[0]}'].append(line[1:])\n",
    "        if line[0] == 'END':\n",
    "            is_recording_block = False"
   ]
  },
  {
   "cell_type": "code",
   "execution_count": 23,
   "id": "83bc6f42",
   "metadata": {},
   "outputs": [],
   "source": [
    "df_samples = pd.DataFrame(samples, columns=['time_stamp', 'x_pos', 'y_pos', 'pupil_size', 'input_pin', 'flags'])"
   ]
  },
  {
   "cell_type": "code",
   "execution_count": 20,
   "id": "795ab11d",
   "metadata": {},
   "outputs": [],
   "source": [
    "df_blink = pd.DataFrame(events['EBLINK'], columns=['eye', 'start_blink', 'end_blink', 'duration'])"
   ]
  }
 ],
 "metadata": {
  "kernelspec": {
   "display_name": "Python 3 (ipykernel)",
   "language": "python",
   "name": "python3"
  },
  "language_info": {
   "codemirror_mode": {
    "name": "ipython",
    "version": 3
   },
   "file_extension": ".py",
   "mimetype": "text/x-python",
   "name": "python",
   "nbconvert_exporter": "python",
   "pygments_lexer": "ipython3",
   "version": "3.10.4"
  }
 },
 "nbformat": 4,
 "nbformat_minor": 5
}
