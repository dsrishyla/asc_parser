{
 "cells": [
  {
   "cell_type": "code",
   "execution_count": 1,
   "id": "624fe764-8501-4384-85d5-d6e6009e4306",
   "metadata": {},
   "outputs": [],
   "source": [
    "from datetime import datetime\n",
    "from pathlib import Path\n",
    "import numpy as np\n",
    "import pandas as pd\n",
    "\n",
    "from mne.io.base import BaseRaw\n",
    "from mne.io.meas_info import create_info"
   ]
  },
  {
   "cell_type": "code",
   "execution_count": 2,
   "id": "71d29f98-75f3-4511-bcb5-d100c5e3dd4c",
   "metadata": {},
   "outputs": [],
   "source": [
    "mode = {'CR':'corneal reflection', 'P':'pupil'}\n",
    "\n",
    "filter_type = {'0': 'filter off',\n",
    "               '1': 'standard filter',\n",
    "               '2': 'extra filter'}\n",
    "# Leading A is for Arm\n",
    "# next R is for Remote\n",
    "# B is for Binocular/Monocular.\n",
    "# M is for Monocular only\n",
    "# Final R means illuminator on Right (legacy systems)\n",
    "mount= {'MTABLER': 'Desktop, Stabilized Head, Monocular',\n",
    "        'BTABLER': 'Desktop, Stabilized Head, Binocular/Monocular',\n",
    "        'RTABLER': 'Desktop (Remote mode), Target Sticker, Monocular',\n",
    "        'RBTABLER': 'Desktop (Remote mode), Target Sticker, Binocular/Monocular',\n",
    "        'AMTABLER': 'Arm Mount, Stabilized Head, Monocular',\n",
    "        'ABTABLER': 'Arm Mount Stabilized Head, Binocular/Monocular',\n",
    "        'ARTABLER': 'Arm Mount (Remote mode), Target Sticker, Monocular',\n",
    "        'ABRTABLE': 'Arm Mount (Remote mode), Target Sticker, Binocular/Monocular',\n",
    "        'BTOWER': 'Binocular Tower Mount, Stabilized Head, Binocular/Monocular',\n",
    "        'TOWER': 'Tower Mount, Stabilized Head, Monocular',\n",
    "        'MPRIM': 'Primate Mount, Stabilized Head, Monocular',\n",
    "        'BPRIM': 'Primate Mount, Stabilized Head, Binocular/Monocular',\n",
    "        'MLRR': 'Long-Range Mount, Stabilized Head, Monocular, Camera Level',\n",
    "        'BLRR': 'Long-Range Mount, Stabilized Head, Binocular/Monocular, Camera Angled'}"
   ]
  },
  {
   "cell_type": "code",
   "execution_count": 14,
   "id": "abeaf317-9c34-4562-ace2-548661840269",
   "metadata": {},
   "outputs": [],
   "source": [
    "def _get_header(asc_fname):\n",
    "    header_info = {}\n",
    "    is_header = False\n",
    "    for line in Path(asc_fname).open():\n",
    "        if line.startswith('**'):\n",
    "            is_header = True\n",
    "        else:\n",
    "            return header_info\n",
    "        if is_header:\n",
    "            hdr = line.lstrip('** ').split(':',maxsplit=1)\n",
    "            if hdr and hdr[0].isupper():\n",
    "                header_info[hdr[0]] = hdr[1].strip()\n",
    "\n",
    "                \n",
    "def _get_data_spec(asc_fname):\n",
    "    data_spec = {}\n",
    "    with Path(asc_fname).open() as file:\n",
    "        is_data_spec = False\n",
    "        for line in file:\n",
    "            if line.isspace():\n",
    "                continue\n",
    "            if 'RECCFG' in line:\n",
    "                is_data_spec = True\n",
    "            if is_data_spec:\n",
    "                if 'RECCFG' in line:\n",
    "                    info = line.split('RECCFG')[1].split()\n",
    "                    data_spec['tracking_mode'] = mode[info[0]]\n",
    "                    data_spec['srate'] = int(info[1])\n",
    "                    data_spec['sample_filter'] = filter_type[info[2]]\n",
    "                    data_spec['analog_filter'] = filter_type[info[3]]\n",
    "                    data_spec['eyes_tracked'] = info[4]\n",
    "                elif 'ELCLCFG' in line:\n",
    "                    info = line.split('ELCLCFG')[1].split()\n",
    "                    data_spec['mount_config'] = mount[info[0]]\n",
    "                elif 'GAZE_COORDS' in line:\n",
    "                    line.find('L')\n",
    "                    info = line.split('GAZE_COORDS')[1].split()\n",
    "                    data_spec['pixel_resolution'] = {'top-left': {'x':float(info[0]),\n",
    "                                                                  'y':float(info[1])},\n",
    "                                                     'top-right':{'x':float(info[2]),\n",
    "                                                                  'y':float(info[3])}}\n",
    "                elif 'THRESHOLDS' in line:\n",
    "                    pass\n",
    "                else:\n",
    "                    return data_spec\n",
    "\n",
    "                \n",
    "def _get_tracking_info(asc_fname):\n",
    "    tracking_info = _get_data_spec(asc_fname)\n",
    "    tracking_info['camera'] = _get_header(asc_fname)['CAMERA']\n",
    "    return tracking_info\n",
    "\n",
    "\n",
    "def _replace_missing_vals(line):\n",
    "    '''return list where missing gaze data\n",
    "       (indicated by '.') are replaced by np.nan.'''\n",
    "    return [np.nan if i == '.' else i for i in line]\n",
    "\n",
    "def _is_sys_msg(line):\n",
    "    return any(['!V' in line,\n",
    "               '!MODE' in line,\n",
    "              ';' in line])\n",
    "\n",
    "def _parse_recording_blocks(asc_fname):\n",
    "    with Path(asc_fname).open() as file:\n",
    "        samples = []\n",
    "        events = {'START':[], 'END':[], 'SAMPLES':[], 'EVENTS':[],\n",
    "                  'ESACC':[], 'EBLINK':[], 'EFIX':[],\n",
    "                  'MSG':[], 'INPUT':[], 'BUTTON': []}     \n",
    "        \n",
    "        is_recording_block = False\n",
    "        for line in file:\n",
    "            if line.startswith('START'):\n",
    "                is_recording_block = True\n",
    "            if is_recording_block and not _is_sys_msg(line):\n",
    "                line = _replace_missing_vals(line.split())\n",
    "                if line[0].isdigit():  # Sample lines start with a number.\n",
    "                    samples.append(line)\n",
    "                elif line[0] in events.keys():\n",
    "                        events[f'{line[0]}'].append(line[1:])\n",
    "                if line[0] == 'END':\n",
    "                    is_recording_block = False\n",
    "        return samples, events\n",
    "    \n",
    "def _infer_col_names(tracking_info):\n",
    "    timestamp_col = ['timestamp']\n",
    "    monocular_cols = ['x_pos','y_pos','pupil_size']    \n",
    "    binocular_cols = ['x_pos_left','y_pos_left','pupil_size_left',\n",
    "                      'x_pos_right','y_pos_right','pupil_size_right']\n",
    "    if tracking_info['eyes_tracked'] == 'LR':\n",
    "        return binocular_cols"
   ]
  },
  {
   "cell_type": "code",
   "execution_count": 26,
   "id": "7a98c23a-112e-4fbc-84a2-57040490e2c7",
   "metadata": {},
   "outputs": [],
   "source": [
    "def read_raw_eyelink(asc_fname):\n",
    "    return RawEyelink(asc_fname)\n",
    "    \n",
    "class RawEyelink(BaseRaw):\n",
    "    \n",
    "    def __init__(self, asc_fname):\n",
    "        self.asc_fname = Path(asc_fname)\n",
    "        self.tracking_info = _get_tracking_info(self.asc_fname)\n",
    "        self.session_info = _get_header(self.asc_fname)\n",
    "        #self._samples, self.events = _parse_recording_blocks(self.asc_fname)\n",
    "        \n",
    "        sfreq = self.tracking_info['srate']\n",
    "        ch_names = _infer_col_names(self.tracking_info)\n",
    "        ch_types = ['eyetrack'] * len(ch_names)\n",
    "        info = create_info(ch_names, sfreq, ch_types)\n",
    "        print(info)\n",
    "        #super(RawEyelink, self).__init__(info, preload=data, filenames=[fname], verbose=verbose)"
   ]
  },
  {
   "cell_type": "code",
   "execution_count": 27,
   "id": "de0cb8fd-580a-43d8-8e73-177df57378a6",
   "metadata": {},
   "outputs": [
    {
     "name": "stdout",
     "output_type": "stream",
     "text": [
      "<Info | 7 non-empty values\n",
      " bads: []\n",
      " ch_names: x_pos_left, y_pos_left, pupil_size_left, x_pos_right, ...\n",
      " chs: 6 Eye-tracking\n",
      " custom_ref_applied: False\n",
      " highpass: 0.0 Hz\n",
      " lowpass: 250.0 Hz\n",
      " meas_date: unspecified\n",
      " nchan: 6\n",
      " projs: []\n",
      " sfreq: 500.0 Hz\n",
      ">\n"
     ]
    }
   ],
   "source": [
    "raw = read_raw_eyelink('test_eyelink.asc')"
   ]
  },
  {
   "cell_type": "code",
   "execution_count": 25,
   "id": "229499eb-9601-44ae-a416-715f8ce34d91",
   "metadata": {},
   "outputs": [
    {
     "ename": "NameError",
     "evalue": "name 'info' is not defined",
     "output_type": "error",
     "traceback": [
      "\u001b[0;31m---------------------------------------------------------------------------\u001b[0m",
      "\u001b[0;31mNameError\u001b[0m                                 Traceback (most recent call last)",
      "Input \u001b[0;32mIn [25]\u001b[0m, in \u001b[0;36m<cell line: 1>\u001b[0;34m()\u001b[0m\n\u001b[0;32m----> 1\u001b[0m \u001b[43minfo\u001b[49m\n",
      "\u001b[0;31mNameError\u001b[0m: name 'info' is not defined"
     ]
    }
   ],
   "source": [
    "info"
   ]
  },
  {
   "cell_type": "code",
   "execution_count": 6,
   "id": "9e719b3a-8faa-4038-b97a-3eb7bbf242e2",
   "metadata": {},
   "outputs": [],
   "source": [
    "file_info = _get_header('s04s07_AS_18Feb22.asc')"
   ]
  },
  {
   "cell_type": "code",
   "execution_count": 7,
   "id": "3d06065c-c718-4008-b41d-a727ae6cbc80",
   "metadata": {},
   "outputs": [
    {
     "data": {
      "text/plain": [
       "{'tracking_mode': 'corneal reflection',\n",
       " 'srate': 1000,\n",
       " 'sample_filter': 'extra filter',\n",
       " 'analog_filter': 'standard filter',\n",
       " 'eyes_tracked': 'L',\n",
       " 'mount_config': 'Arm Mount (Remote mode), Target Sticker, Binocular/Monocular',\n",
       " 'pixel_resolution': {'top-left': {'x': 0.0, 'y': 0.0},\n",
       "  'top-right': {'x': 1919.0, 'y': 1079.0}},\n",
       " 'camera': 'Eyelink GL Version 1.2 Sensor=AG7'}"
      ]
     },
     "execution_count": 7,
     "metadata": {},
     "output_type": "execute_result"
    }
   ],
   "source": [
    "raw.tracking_info"
   ]
  },
  {
   "cell_type": "code",
   "execution_count": 2,
   "id": "c62b230a-5bba-477a-bbd4-1eedbba3c88d",
   "metadata": {},
   "outputs": [],
   "source": [
    "import pandas as pd\n",
    "from mne.io.eyetrack.ParseEyeLinkAscFiles_ import ParseEyeLinkAsc_"
   ]
  },
  {
   "cell_type": "code",
   "execution_count": 4,
   "id": "e486454d-b2fd-4c39-ad41-a59d9f7fd65a",
   "metadata": {},
   "outputs": [
    {
     "name": "stdout",
     "output_type": "stream",
     "text": [
      "Reading in EyeLink file test_eyelink.asc...\n",
      "Done! Took 0.037136 seconds.\n",
      "Sorting lines...\n",
      "Done! Took 0.214561 seconds.\n",
      "Parsing recording markers...\n",
      "1 recording periods found.\n",
      "Parsing stimulus messages...\n",
      "Done! Took 0.000713 seconds.\n",
      "Parsing fixations...\n",
      "Done! Took 0.024151 seconds.\n",
      "Parsing saccades...\n",
      "Done! Took 0.022847 seconds.\n",
      "Parsing blinks...\n",
      "Done! Took 0.043874 seconds.\n",
      "binocular data detected.\n",
      "Parsing samples...\n",
      "Done! Took 0.1 seconds.\n"
     ]
    }
   ],
   "source": [
    "df_recalibration, df_msg, df_fix, df_sacc, df_blink, df_samples = ParseEyeLinkAsc_('test_eyelink.asc')"
   ]
  },
  {
   "cell_type": "code",
   "execution_count": 3,
   "id": "881d84dc-2bb8-404c-b02d-a3c4e5b7c8ea",
   "metadata": {},
   "outputs": [
    {
     "name": "stdout",
     "output_type": "stream",
     "text": [
      "Reading in EyeLink file test_eyelink.asc...\n",
      "Done! Took 0.050471 seconds.\n",
      "Sorting lines...\n",
      "Done! Took 0.227984 seconds.\n",
      "Parsing recording markers...\n",
      "1 recording periods found.\n",
      "Parsing stimulus messages...\n",
      "Done! Took 0.000709 seconds.\n",
      "Parsing fixations...\n",
      "Done! Took 0.021815 seconds.\n",
      "Parsing saccades...\n",
      "Done! Took 0.020983 seconds.\n",
      "Parsing blinks...\n",
      "Done! Took 0.042762 seconds.\n",
      "binocular data detected.\n",
      "Parsing samples...\n",
      "Done! Took 0.1 seconds.\n"
     ]
    },
    {
     "data": {
      "text/plain": [
       "(    tStart     tEnd  xRes   yRes\n",
       " 0  5511179  8679774  45.9  46.06,\n",
       "         time                            text\n",
       " 0    4818632  DISPLAY_COORDS = 0 0 1919 1079\n",
       " 1    5484329                            !CAL\n",
       " 2    5484329        !CAL Calibration points:\n",
       " 3    5484329       !CAL -29.8, -37.1 -0, 182\n",
       " 4    5484329     !CAL -29.5, -47.7 -0, -2426\n",
       " ..       ...                             ...\n",
       " 112  5557091                    trigger: 200\n",
       " 113  5559207                    trigger: 211\n",
       " 114  5565217                    trigger: 201\n",
       " 115  5569336                    trigger: 200\n",
       " 116  5571486                    trigger: 222\n",
       " \n",
       " [117 rows x 2 columns],\n",
       "     eye   tStart     tEnd  duration   xAvg   yAvg  pupilAvg\n",
       " 0     R  5511183  5511747       566  990.1  515.8      3744\n",
       " 1     L  5511183  5511751       570  986.7  531.7      3799\n",
       " 2     R  5511903  5512123       222  985.6  505.3      3845\n",
       " 3     L  5511923  5512125       204  995.7  517.2      3890\n",
       " 4     R  5512139  5514557      2420  962.4  519.8      3706\n",
       " ..   ..      ...      ...       ...    ...    ...       ...\n",
       " 247   L  5568987  5569491       506  991.5  486.4      3651\n",
       " 248   L  5569509  5569691       184  965.5  515.5      3568\n",
       " 249   R  5569509  5569693       186  947.4  526.2      3549\n",
       " 250   R  5569793  5570035       244  939.2  552.7      3680\n",
       " 251   L  5569807  5570037       232  961.0  540.7      3683\n",
       " \n",
       " [252 rows x 7 columns],\n",
       "     eye   tStart     tEnd  duration  xStart  yStart    xEnd   yEnd  ampDeg  \\\n",
       " 0     R  5511749  5511901       154   990.8   512.0   976.4  504.1    0.36   \n",
       " 1     L  5511753  5511921       170   992.8   534.6   987.5  521.0    0.32   \n",
       " 2     L  5512127  5512135        10   997.7   519.7   973.1  536.3    0.65   \n",
       " 3     R  5512125  5512137        14   988.0   505.5   960.8  522.4    0.70   \n",
       " 4     L  5514563  5514575        14   980.3   539.0  1023.0  524.2    0.99   \n",
       " ..   ..      ...      ...       ...     ...     ...     ...    ...     ...   \n",
       " 247   R  5569489  5569507        20   970.6   484.6   939.5  531.2    1.23   \n",
       " 248   R  5569695  5569791        98   953.4   531.2   928.1  545.9    0.64   \n",
       " 249   L  5569693  5569805       114   968.8   521.7   963.5  547.9    0.58   \n",
       " 250   R  5570037  5570041         6   940.6   556.4   954.7  559.4    0.31   \n",
       " 251   L  5570039  5570045         8   958.5   536.9   973.6  547.3    0.40   \n",
       " \n",
       "      vPeak  \n",
       " 0      768  \n",
       " 1      623  \n",
       " 2       77  \n",
       " 3       73  \n",
       " 4       96  \n",
       " ..     ...  \n",
       " 247    105  \n",
       " 248    857  \n",
       " 249    738  \n",
       " 250     53  \n",
       " 251     53  \n",
       " \n",
       " [252 rows x 10 columns],\n",
       "    eye   tStart     tEnd  duration\n",
       " 0    R  5511793  5511859        68\n",
       " 1    L  5511779  5511885       108\n",
       " 2    R  5520099  5520129        32\n",
       " 3    L  5520077  5520163        88\n",
       " 4    R  5525297  5525335        40\n",
       " 5    L  5525285  5525361        78\n",
       " 6    R  5528683  5528723        42\n",
       " 7    L  5528673  5528745        74\n",
       " 8    L  5533681  5533729        50\n",
       " 9    R  5539739  5539789        52\n",
       " 10   L  5539721  5539827       108\n",
       " 11   R  5543287  5543347        62\n",
       " 12   L  5543275  5543365        92\n",
       " 13   R  5545239  5545249        12\n",
       " 14   L  5545225  5545279        56\n",
       " 15   R  5549133  5549167        36\n",
       " 16   L  5549109  5549187        80\n",
       " 17   R  5550927  5550957        32\n",
       " 18   L  5550917  5550989        74\n",
       " 19   R  5554917  5554959        44\n",
       " 20   L  5554911  5554977        68\n",
       " 21   R  5557117  5557227       112\n",
       " 22   L  5557111  5557243       134\n",
       " 23   L  5568917  5568957        42\n",
       " 24   R  5569721  5569757        38\n",
       " 25   L  5569715  5569775        62,\n",
       "        tSample     LX     LY  LPupil     RX     RY  RPupil\n",
       " 0      5511179  988.3  534.7  3879.0  989.5  513.6  3785.0\n",
       " 1      5511181  987.0  536.3  3879.0  990.5  515.4  3782.0\n",
       " 2      5511183  987.4  533.3  3868.0  989.7  512.5  3770.0\n",
       " 3      5511185  988.2  531.2  3855.0  988.0  512.4  3783.0\n",
       " 4      5511187  988.3  532.6  3858.0  987.8  514.4  3773.0\n",
       " ...        ...    ...    ...     ...    ...    ...     ...\n",
       " 30231  5571641  974.6  532.8  3477.0  962.0  554.8  3414.0\n",
       " 30232  5571643  974.8  532.0  3484.0  963.8  554.3  3417.0\n",
       " 30233  5571645  974.9  529.7  3477.0  963.6  551.9  3421.0\n",
       " 30234  5571647  974.8  530.8  3487.0  962.0  550.3  3416.0\n",
       " 30235  5571649  975.5  530.0  3487.0  958.4  551.8  3408.0\n",
       " \n",
       " [30236 rows x 7 columns])"
      ]
     },
     "execution_count": 3,
     "metadata": {},
     "output_type": "execute_result"
    }
   ],
   "source": [
    "ParseEyeLinkAsc_('test_eyelink.asc')"
   ]
  },
  {
   "cell_type": "code",
   "execution_count": null,
   "id": "d90fc223-c87a-473b-8f69-bc19be9154e8",
   "metadata": {},
   "outputs": [],
   "source": []
  }
 ],
 "metadata": {
  "kernelspec": {
   "display_name": "Python 3 (ipykernel)",
   "language": "python",
   "name": "python3"
  },
  "language_info": {
   "codemirror_mode": {
    "name": "ipython",
    "version": 3
   },
   "file_extension": ".py",
   "mimetype": "text/x-python",
   "name": "python",
   "nbconvert_exporter": "python",
   "pygments_lexer": "ipython3",
   "version": "3.10.4"
  }
 },
 "nbformat": 4,
 "nbformat_minor": 5
}
